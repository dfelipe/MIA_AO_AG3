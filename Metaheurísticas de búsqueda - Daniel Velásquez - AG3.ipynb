{
 "cells": [
  {
   "cell_type": "markdown",
   "id": "4b317802-132d-484c-940c-a412ed87e672",
   "metadata": {},
   "source": [
    "# AG3- Actividad Guiada 3 - Metaheurísticas de búsqueda\n",
    "\n",
    "## Daniel Velásquez\n",
    "\n",
    "### Repositorio: https://github.com/dfelipe/MIA_AO_AG3"
   ]
  },
  {
   "cell_type": "code",
   "execution_count": 1,
   "id": "e9282397-0dbc-469c-91f9-12df1a8dea1d",
   "metadata": {
    "tags": []
   },
   "outputs": [
    {
     "name": "stdout",
     "output_type": "stream",
     "text": [
      "swiss42.tsp already exists -- do you wish to overwrite (y or n)? ^C\n"
     ]
    }
   ],
   "source": [
    "import urllib.request #Hacer llamadas http a paginas de la red\n",
    "import tsplib95       #Modulo para las instancias del problema del TSP\n",
    "import math           #Modulo de funciones matematicas. Se usa para exp\n",
    "import random \n",
    "\n",
    "#Descargamos el fichero de datos(Matriz de distancias)\n",
    "file = \"swiss42.tsp\" ;\n",
    "urllib.request.urlretrieve(\"http://comopt.ifi.uni-heidelberg.de/software/TSPLIB95/tsp/swiss42.tsp.gz\", file + '.gz')\n",
    "!gzip -d swiss42.tsp.gz     #Descomprimir el fichero de datos"
   ]
  },
  {
   "cell_type": "code",
   "execution_count": 2,
   "id": "504e85c0-0bfe-41ea-8a12-ca7bb9950ca4",
   "metadata": {
    "collapsed": true,
    "jupyter": {
     "outputs_hidden": true
    },
    "tags": []
   },
   "outputs": [
    {
     "data": {
      "text/plain": [
       "[0,\n",
       " 1,\n",
       " 2,\n",
       " 3,\n",
       " 4,\n",
       " 5,\n",
       " 6,\n",
       " 7,\n",
       " 8,\n",
       " 9,\n",
       " 10,\n",
       " 11,\n",
       " 12,\n",
       " 13,\n",
       " 14,\n",
       " 15,\n",
       " 16,\n",
       " 17,\n",
       " 18,\n",
       " 19,\n",
       " 20,\n",
       " 21,\n",
       " 22,\n",
       " 23,\n",
       " 24,\n",
       " 25,\n",
       " 26,\n",
       " 27,\n",
       " 28,\n",
       " 29,\n",
       " 30,\n",
       " 31,\n",
       " 32,\n",
       " 33,\n",
       " 34,\n",
       " 35,\n",
       " 36,\n",
       " 37,\n",
       " 38,\n",
       " 39,\n",
       " 40,\n",
       " 41]"
      ]
     },
     "execution_count": 2,
     "metadata": {},
     "output_type": "execute_result"
    }
   ],
   "source": [
    "#Carga de datos y generación de objeto problem\n",
    "###############################################################################\n",
    "problem = tsplib95.load(file)\n",
    "\n",
    "#Nodos\n",
    "Nodos = list(problem.get_nodes())\n",
    "\n",
    "#Aristas\n",
    "Aristas = list(problem.get_edges())\n"
   ]
  },
  {
   "cell_type": "code",
   "execution_count": 3,
   "id": "51c307eb-0ea3-4d07-a6ec-b7b8fb12b2d4",
   "metadata": {
    "tags": []
   },
   "outputs": [
    {
     "data": {
      "text/plain": [
       "15"
      ]
     },
     "execution_count": 3,
     "metadata": {},
     "output_type": "execute_result"
    }
   ],
   "source": [
    "#Probamos algunas funciones del objeto problem\n",
    "\n",
    "#Distancia entre nodos\n",
    "problem.get_weight(0, 1)\n",
    "\n",
    "#Todas las funciones\n",
    "#Documentación: https://tsplib95.readthedocs.io/en/v0.6.1/modules.html\n",
    "\n",
    "#dir(problem)\n",
    "#print(problem)"
   ]
  },
  {
   "cell_type": "code",
   "execution_count": 4,
   "id": "69179e46-53f8-49aa-95bd-d844e03e6bc5",
   "metadata": {
    "tags": []
   },
   "outputs": [],
   "source": [
    "#Funciones básicas\n",
    "###############################################################################\n",
    "\n",
    "#Se genera una solución aleatoria con comienzo en en el nodo 0\n",
    "def crear_solucion(Nodos):\n",
    "  solucion = [Nodos[0]]\n",
    "  for n in Nodos[1:]:\n",
    "    solucion = solucion + [random.choice(list(set(Nodos) - set(solucion)))]\n",
    "  return solucion\n",
    "\n",
    "#Devuelve la distancia entre dos nodos\n",
    "def distancia(a,b, problem):\n",
    "  return problem.get_weight(a,b)\n",
    "\n",
    "#Devuelve la distancia total de una trayectoria/solucion\n",
    "def distancia_total(solucion, problem):\n",
    "  distancia_total = 0\n",
    "  for i in range(len(solucion)-1):\n",
    "    distancia_total += distancia(solucion[i] ,solucion[i+1] ,  problem)\n",
    "  return distancia_total + distancia(solucion[len(solucion)-1] ,solucion[0], problem)"
   ]
  },
  {
   "cell_type": "code",
   "execution_count": 294,
   "id": "7234c154-438c-45d2-b834-562a63ae9a33",
   "metadata": {
    "tags": []
   },
   "outputs": [
    {
     "name": "stdout",
     "output_type": "stream",
     "text": [
      "Mejor solución: [0, 37, 31, 34, 33, 18, 1, 36, 16, 14, 12, 10, 21, 23, 7, 6, 20, 27, 2, 17, 5, 22, 8, 24, 40, 39, 41, 25, 30, 9, 29, 11, 4, 3, 15, 38, 13, 19, 32, 35, 26, 28]\n",
      "Distancia     : 3670\n"
     ]
    }
   ],
   "source": [
    "def busqueda_aleatoria(problem, N):\n",
    "  #N es el numero de iteraciones\n",
    "  Nodos = list(problem.get_nodes())\n",
    "\n",
    "  mejor_solucion = []\n",
    "  #mejor_distancia = 10e100                         #Inicializamos con un valor alto\n",
    "  mejor_distancia = float('inf')                    #Inicializamos con un valor alto\n",
    "\n",
    "  for i in range(N):                                #Criterio de parada: repetir N veces pero podemos incluir otros\n",
    "    solucion = crear_solucion(Nodos)                #Genera una solucion aleatoria\n",
    "    distancia = distancia_total(solucion, problem)  #Calcula el valor objetivo(distancia total)\n",
    "\n",
    "    if distancia < mejor_distancia:                 #Compara con la mejor obtenida hasta ahora\n",
    "      mejor_solucion = solucion\n",
    "      mejor_distancia = distancia\n",
    "\n",
    "\n",
    "  print(\"Mejor solución:\" , mejor_solucion)\n",
    "  print(\"Distancia     :\" , mejor_distancia)\n",
    "  return mejor_solucion\n",
    "\n",
    "\n",
    "#Busqueda aleatoria con 10000 iteraciones\n",
    "solucion = busqueda_aleatoria(problem, 10000)"
   ]
  },
  {
   "cell_type": "code",
   "execution_count": 297,
   "id": "9f9077f4-e3e1-4cf8-9532-a6445f50e070",
   "metadata": {
    "tags": []
   },
   "outputs": [
    {
     "name": "stdout",
     "output_type": "stream",
     "text": [
      "Distancia Solucion Incial: 3670\n",
      "Distancia Mejor Solucion Local: 3323\n"
     ]
    }
   ],
   "source": [
    "###############################################################################\n",
    "# BUSQUEDA LOCAL\n",
    "###############################################################################\n",
    "def genera_vecina(solucion):\n",
    "  #Generador de soluciones vecinas: 2-opt (intercambiar 2 nodos) Si hay N nodos se generan (N-1)x(N-2)/2 soluciones\n",
    "  #Se puede modificar para aplicar otros generadores distintos que 2-opt\n",
    "\n",
    "  mejor_solucion = []\n",
    "  mejor_distancia = 10e100\n",
    "  for i in range(1,len(solucion)-1):          #Recorremos todos los nodos en bucle doble para evaluar todos los intercambios 2-opt\n",
    "    for j in range(i+1, len(solucion)):\n",
    "\n",
    "      #Se genera una nueva solución intercambiando los dos nodos i,j:\n",
    "      #  (usamos el operador + que para listas en python las concatena) : ej.: [1,2] + [3] = [1,2,3]\n",
    "      vecina = solucion[:i] + [solucion[j]] + solucion[i+1:j] + [solucion[i]] + solucion[j+1:]\n",
    "\n",
    "      #Se evalua la nueva solución ...\n",
    "      distancia_vecina = distancia_total(vecina, problem)\n",
    "\n",
    "      #... para guardarla si mejora las anteriores\n",
    "      if distancia_vecina <= mejor_distancia:\n",
    "        mejor_distancia = distancia_vecina\n",
    "        mejor_solucion = vecina\n",
    "  return mejor_solucion\n",
    "\n",
    "print(\"Distancia Solucion Incial:\" , distancia_total(solucion, problem))\n",
    "\n",
    "nueva_solucion = genera_vecina(solucion)\n",
    "print(\"Distancia Mejor Solucion Local:\", distancia_total(nueva_solucion, problem))"
   ]
  },
  {
   "cell_type": "code",
   "execution_count": 299,
   "id": "e3ade9ff-4c11-4e03-9e52-33c7cba7a32c",
   "metadata": {
    "tags": []
   },
   "outputs": [
    {
     "name": "stdout",
     "output_type": "stream",
     "text": [
      "Punto de partida:  4917\n",
      "Nodos de partida:  [0, 7, 10, 27, 6, 38, 1, 28, 25, 22, 19, 32, 37, 41, 17, 15, 33, 31, 23, 16, 18, 34, 20, 21, 3, 8, 11, 24, 4, 5, 26, 30, 29, 13, 12, 40, 39, 35, 2, 14, 36, 9]\n",
      "En la iteracion  37 , la mejor solución encontrada es: [0, 1, 6, 4, 3, 27, 2, 9, 39, 22, 30, 7, 14, 16, 15, 37, 17, 36, 35, 20, 33, 34, 38, 21, 24, 40, 23, 41, 25, 18, 26, 5, 19, 13, 12, 11, 10, 8, 29, 28, 32, 31]\n",
      "Distancia     : 1704\n"
     ]
    }
   ],
   "source": [
    "#Busqueda Local:\n",
    "#  - Sobre el operador de vecindad 2-opt(funcion genera_vecina)\n",
    "#  - Sin criterio de parada, se para cuando no es posible mejorar.\n",
    "def busqueda_local(problem):\n",
    "  mejor_solucion = []\n",
    "\n",
    "  #Generar una solucion inicial de referencia(aleatoria)\n",
    "  solucion_referencia = crear_solucion(Nodos)\n",
    "  mejor_distancia = distancia_total(solucion_referencia, problem)\n",
    "  print(\"Punto de partida: \",mejor_distancia)\n",
    "  print(\"Nodos de partida: \",solucion_referencia)\n",
    "    \n",
    "  iteracion=0             #Un contador para saber las iteraciones que hacemos\n",
    "  while(1):\n",
    "    iteracion +=1         #Incrementamos el contador\n",
    "\n",
    "    #Obtenemos la mejor vecina ...\n",
    "    vecina = genera_vecina(solucion_referencia)\n",
    "\n",
    "    #... y la evaluamos para ver si mejoramos respecto a lo encontrado hasta el momento\n",
    "    distancia_vecina = distancia_total(vecina, problem)\n",
    "\n",
    "    #Si no mejoramos hay que terminar. Hemos llegado a un minimo local(según nuestro operador de vencindad 2-opt)\n",
    "    if distancia_vecina < mejor_distancia:\n",
    "      #mejor_solucion = copy.deepcopy(vecina)   #Con copia profunda. Las copias en python son por referencia\n",
    "      mejor_solucion = vecina                   #Guarda la mejor solución encontrada\n",
    "      mejor_distancia = distancia_vecina\n",
    "\n",
    "    else:\n",
    "      print(\"En la iteracion \", iteracion, \", la mejor solución encontrada es:\" , mejor_solucion)\n",
    "      print(\"Distancia     :\" , mejor_distancia)\n",
    "      return mejor_solucion\n",
    "\n",
    "    solucion_referencia = vecina\n",
    "\n",
    "sol = busqueda_local(problem )"
   ]
  },
  {
   "cell_type": "markdown",
   "id": "20404429-4a7a-498f-93c4-2cbca633ba4c",
   "metadata": {},
   "source": [
    "## Otro mecanismo para ordenar \n",
    "\n",
    "Realicé la prueba de agrupar los puntos por cuadrante según las potenciales coordenadas (x,y) que podráin tener los nodos apoyado de la librería sklearn.manifold y utilizando la técnica Multidimensional Scaling (MDS). Esperaba obtener mejores puntos de partida para el algoritmo de búsqueda, pero no hizo diferencia. Posiblemente buscando soluciones por cuadrante y posteriormente utilizando un algortimo genético, se logren obtener mejores resultados. "
   ]
  },
  {
   "cell_type": "code",
   "execution_count": 300,
   "id": "fd662c3c-14b1-43ab-a4b6-0f278b43480a",
   "metadata": {
    "tags": []
   },
   "outputs": [],
   "source": [
    "# tabla_operaciones.csv contiene valores de \"swiss42.tsp\" separados por comas para facilitar el uso de la librería MDS\n",
    "import csv\n",
    "import os\n",
    "\n",
    "ruta = os.path.join(\"res\", \"Nodos.csv\")\n",
    "nod=[]\n",
    "\n",
    "with open(ruta) as fichero:\n",
    "    data_reader = csv.reader(fichero, delimiter=';')\n",
    "    for linea in data_reader:\n",
    "        test_list = [int(i) for i in linea]\n",
    "        nod.append(test_list)\n"
   ]
  },
  {
   "cell_type": "code",
   "execution_count": 305,
   "id": "34a0a38f-76c3-46a7-a529-7b01431e26f5",
   "metadata": {
    "tags": []
   },
   "outputs": [
    {
     "name": "stdout",
     "output_type": "stream",
     "text": [
      "Nodo 1: Coordenadas (-13.487474746814105, 27.274916898178684)\n",
      "Nodo 2: Coordenadas (-27.134242043611547, 20.668919679674914)\n",
      "Nodo 3: Coordenadas (-0.4510660678410027, -0.11730493521978087)\n",
      "Nodo 4: Coordenadas (-10.675960592576173, 4.554994944918765)\n",
      "Nodo 5: Coordenadas (-17.458102619598257, -4.1327947959819005)\n",
      "Nodo 6: Coordenadas (-57.57455800860589, -5.806510413129068)\n",
      "Nodo 7: Coordenadas (-36.295931173866435, 3.6753306628785807)\n",
      "Nodo 8: Coordenadas (-43.999443841250304, 47.5244480358726)\n",
      "Nodo 9: Coordenadas (22.919869728230374, -57.45634743280086)\n",
      "Nodo 10: Coordenadas (48.374778409738965, -68.77962751016332)\n",
      "Nodo 11: Coordenadas (-5.488366771742136, -64.2261578218326)\n",
      "Nodo 12: Coordenadas (-41.788095635473475, -78.62415358174509)\n",
      "Nodo 13: Coordenadas (-39.471170995533996, -65.174846564821)\n",
      "Nodo 14: Coordenadas (-92.39778977844826, -16.45515869485661)\n",
      "Nodo 15: Coordenadas (-85.91647909050944, 42.49232112008861)\n",
      "Nodo 16: Coordenadas (-85.033233532078, 53.80758934555511)\n",
      "Nodo 17: Coordenadas (-93.13705174681255, 46.42271033739997)\n",
      "Nodo 18: Coordenadas (-42.777898893032415, 87.91178847429646)\n",
      "Nodo 19: Coordenadas (-41.651804750100474, -39.5208649657264)\n",
      "Nodo 20: Coordenadas (-88.5973763123617, 7.892748461027574)\n",
      "Nodo 21: Coordenadas (40.030589604875466, 89.879903243727)\n",
      "Nodo 22: Coordenadas (94.2502281242409, -89.81614834399059)\n",
      "Nodo 23: Coordenadas (96.6109460179152, -25.166470933704847)\n",
      "Nodo 24: Coordenadas (37.33399904101939, -93.88857472429292)\n",
      "Nodo 25: Coordenadas (142.0753844915905, -107.74002456761926)\n",
      "Nodo 26: Coordenadas (-14.40106546960901, -84.68819702882986)\n",
      "Nodo 27: Coordenadas (-48.51601845557795, -17.733721154142312)\n",
      "Nodo 28: Coordenadas (0.45474854381031005, 3.3015383359430643)\n",
      "Nodo 29: Coordenadas (17.671935023927215, -2.455303559387052)\n",
      "Nodo 30: Coordenadas (37.397915924171734, -20.340146453562536)\n",
      "Nodo 31: Coordenadas (44.93041143163823, -0.598701828803954)\n",
      "Nodo 32: Coordenadas (-22.06247208642956, 92.80635406586083)\n",
      "Nodo 33: Coordenadas (21.345637648777164, 39.35123544584987)\n",
      "Nodo 34: Coordenadas (63.575629332174444, 96.10427668333442)\n",
      "Nodo 35: Coordenadas (56.42231864409513, 73.33815768810408)\n",
      "Nodo 36: Coordenadas (-12.69284588034426, 151.78682703183424)\n",
      "Nodo 37: Coordenadas (-51.210965761726094, 150.41388405379985)\n",
      "Nodo 38: Coordenadas (-71.13215709064778, 71.13979682542403)\n",
      "Nodo 39: Coordenadas (111.2110145671811, 8.216566129097226)\n",
      "Nodo 40: Coordenadas (94.33704199292416, -64.23249560295832)\n",
      "Nodo 41: Coordenadas (95.60587114214523, -119.23061766369608)\n",
      "Nodo 42: Coordenadas (18.80325167613535, -92.38013888560155)\n"
     ]
    },
    {
     "name": "stderr",
     "output_type": "stream",
     "text": [
      "/Users/dvelasquez/Library/Python/3.9/lib/python/site-packages/sklearn/manifold/_mds.py:299: FutureWarning: The default value of `normalized_stress` will change to `'auto'` in version 1.4. To suppress this warning, manually set the value of `normalized_stress`.\n",
      "  warnings.warn(\n"
     ]
    }
   ],
   "source": [
    "import numpy as np\n",
    "from sklearn.manifold import MDS\n",
    "\n",
    "def obtener_coordenadas(distancias):\n",
    "    # Crear la matriz de distancias\n",
    "    n = len(distancias)\n",
    "    matriz_distancias = np.zeros((n, n))\n",
    "    for i in range(n):\n",
    "        for j in range(n):\n",
    "            matriz_distancias[i, j] = distancias[i][j]\n",
    "    \n",
    "    # Aplicar el algoritmo MDS\n",
    "    mds = MDS(n_components=2, dissimilarity='precomputed')\n",
    "    coordenadas = mds.fit_transform(matriz_distancias)\n",
    "    \n",
    "    # Devolver las coordenadas en formato (x, y)\n",
    "    coordenadas_nodos = [(coordenadas[i, 0], coordenadas[i, 1]) for i in range(n)]\n",
    "    return coordenadas_nodos\n",
    "\n",
    "\n",
    "coordenadas_nodos = obtener_coordenadas(nod)\n",
    "for i, coordenada in enumerate(coordenadas_nodos):\n",
    "    print(f\"Nodo {i+1}: Coordenadas {coordenada}\")\n"
   ]
  },
  {
   "cell_type": "code",
   "execution_count": 329,
   "id": "85eb27ae-6321-49ec-a2c6-83d30032d559",
   "metadata": {
    "tags": []
   },
   "outputs": [
    {
     "data": {
      "image/png": "[encoded data removed]",
      "text/plain": [
       "<Figure size 640x480 with 1 Axes>"
      ]
     },
     "metadata": {},
     "output_type": "display_data"
    }
   ],
   "source": [
    "import matplotlib.pyplot as plt\n",
    "\n",
    "for i, coordenada in enumerate(coordenadas_nodos):\n",
    "    plt.plot(coordenada[0], coordenada[1], 'o')\n",
    "    plt.text(coordenada[0], coordenada[1], i, fontsize=10)\n",
    "\n",
    "plt.show()"
   ]
  },
  {
   "cell_type": "code",
   "execution_count": 309,
   "id": "5fd0f509-c98c-433a-8567-c8bb127c10cd",
   "metadata": {
    "tags": []
   },
   "outputs": [
    {
     "name": "stdout",
     "output_type": "stream",
     "text": [
      "Cuadrante 1: [(40.030589604875466, 89.879903243727), (0.45474854381031005, 3.3015383359430643), (21.345637648777164, 39.35123544584987), (63.575629332174444, 96.10427668333442), (56.42231864409513, 73.33815768810408), (111.2110145671811, 8.216566129097226)]\n",
      "Cuadrante 2: [(-13.487474746814105, 27.274916898178684), (-27.134242043611547, 20.668919679674914), (-10.675960592576173, 4.554994944918765), (-36.295931173866435, 3.6753306628785807), (-43.999443841250304, 47.5244480358726), (-85.91647909050944, 42.49232112008861), (-85.033233532078, 53.80758934555511), (-93.13705174681255, 46.42271033739997), (-42.777898893032415, 87.91178847429646), (-88.5973763123617, 7.892748461027574), (-22.06247208642956, 92.80635406586083), (-12.69284588034426, 151.78682703183424), (-51.210965761726094, 150.41388405379985), (-71.13215709064778, 71.13979682542403)]\n",
      "Cuadrante 3: [(-0.4510660678410027, -0.11730493521978087), (-17.458102619598257, -4.1327947959819005), (-57.57455800860589, -5.806510413129068), (-5.488366771742136, -64.2261578218326), (-41.788095635473475, -78.62415358174509), (-39.471170995533996, -65.174846564821), (-92.39778977844826, -16.45515869485661), (-41.651804750100474, -39.5208649657264), (-14.40106546960901, -84.68819702882986), (-48.51601845557795, -17.733721154142312)]\n",
      "Cuadrante 4: [(22.919869728230374, -57.45634743280086), (48.374778409738965, -68.77962751016332), (94.2502281242409, -89.81614834399059), (96.6109460179152, -25.166470933704847), (37.33399904101939, -93.88857472429292), (142.0753844915905, -107.74002456761926), (17.671935023927215, -2.455303559387052), (37.397915924171734, -20.340146453562536), (44.93041143163823, -0.598701828803954), (94.33704199292416, -64.23249560295832), (95.60587114214523, -119.23061766369608), (18.80325167613535, -92.38013888560155)]\n",
      "Nodos:  [0, 1, 3, 6, 7, 14, 15, 16, 17, 19, 31, 35, 36, 37, 2, 4, 5, 10, 11, 12, 13, 18, 25, 26, 8, 9, 21, 22, 23, 24, 28, 29, 30, 39, 40, 41, 20, 27, 32, 33, 34, 38]\n"
     ]
    }
   ],
   "source": [
    "def organizar_por_cuadrante(coordenadas):\n",
    "    cuadrante_1 = []\n",
    "    cuadrante_1_nodos = []\n",
    "    cuadrante_2 = []\n",
    "    cuadrante_2_nodos = []\n",
    "    cuadrante_3 = []\n",
    "    cuadrante_3_nodos = []\n",
    "    cuadrante_4 = []\n",
    "    cuadrante_4_nodos = []\n",
    "    nodos=[]\n",
    "\n",
    "    for i, coordenada in enumerate(coordenadas):\n",
    "   # for x, y in coordenadas:\n",
    "        if coordenada[0] >= 0 and coordenada[1] >= 0:\n",
    "            cuadrante_1.append((coordenada[0], coordenada[1]))\n",
    "            cuadrante_1_nodos.append(i)\n",
    "        elif coordenada[0] < 0 and coordenada[1] >= 0:\n",
    "            cuadrante_2.append((coordenada[0], coordenada[1]))\n",
    "            cuadrante_2_nodos.append(i)\n",
    "        elif coordenada[0] < 0 and coordenada[1] < 0:\n",
    "            cuadrante_3.append((coordenada[0], coordenada[1]))\n",
    "            cuadrante_3_nodos.append(i)\n",
    "        else:\n",
    "            cuadrante_4.append((coordenada[0], coordenada[1]))\n",
    "            cuadrante_4_nodos.append(i)\n",
    "\n",
    "    nodos=cuadrante_2_nodos+cuadrante_3_nodos+cuadrante_4_nodos+cuadrante_1_nodos\n",
    "    return cuadrante_1, cuadrante_2, cuadrante_3, cuadrante_4, nodos\n",
    "\n",
    "# Ejemplo de uso\n",
    "coordenadas = [(1, 2), (-3, 4), (-2, -1), (5, -6), (0, 0)]\n",
    "\n",
    "cuadrante_1, cuadrante_2, cuadrante_3, cuadrante_4, nodos = organizar_por_cuadrante(coordenadas_nodos)\n",
    "\n",
    "print(\"Cuadrante 1:\", cuadrante_1)\n",
    "print(\"Cuadrante 2:\", cuadrante_2)\n",
    "print(\"Cuadrante 3:\", cuadrante_3)\n",
    "print(\"Cuadrante 4:\", cuadrante_4)\n",
    "print(\"Nodos: \", nodos)"
   ]
  },
  {
   "cell_type": "code",
   "execution_count": 328,
   "id": "5d134bf8-056d-48cd-8749-26b95e4c7beb",
   "metadata": {
    "tags": []
   },
   "outputs": [
    {
     "name": "stdout",
     "output_type": "stream",
     "text": [
      "Punto de partida:  4896\n",
      "Nodos de partida:  [0, 40, 11, 18, 2, 19, 10, 15, 39, 31, 20, 9, 30, 13, 5, 17, 14, 6, 41, 28, 35, 4, 36, 38, 24, 27, 1, 23, 21, 7, 33, 37, 8, 29, 34, 25, 3, 22, 12, 32, 26, 16]\n",
      "En la iteracion  38 , la mejor solución encontrada es: [0, 4, 11, 12, 18, 26, 16, 14, 7, 31, 20, 34, 32, 6, 5, 13, 19, 15, 37, 17, 36, 35, 33, 38, 22, 39, 9, 23, 21, 24, 40, 41, 25, 10, 8, 29, 30, 28, 2, 27, 3, 1]\n",
      "Distancia     : 1664\n"
     ]
    }
   ],
   "source": [
    "#Busqueda Local:\n",
    "#  - Sobre el operador de vecindad 2-opt(funcion genera_vecina)\n",
    "#  - Sin criterio de parada, se para cuando no es posible mejorar.\n",
    "def nueva_busqueda_local(n_cuadra,problem):\n",
    "  mejor_solucion = []\n",
    "\n",
    "  #Generar una solucion inicial de referencia(aleatoria)\n",
    "  solucion_referencia = crear_solucion(n_cuadra)\n",
    "  mejor_distancia = distancia_total(solucion_referencia, problem)\n",
    "  print(\"Punto de partida: \",mejor_distancia)\n",
    "  print(\"Nodos de partida: \",solucion_referencia)\n",
    "    \n",
    "  iteracion=0             #Un contador para saber las iteraciones que hacemos\n",
    "  while(iteracion<100):\n",
    "    iteracion +=1         #Incrementamos el contador\n",
    "    #print('#',iteracion)\n",
    "\n",
    "    #Obtenemos la mejor vecina ...\n",
    "    vecina = genera_vecina(solucion_referencia)\n",
    "\n",
    "    #... y la evaluamos para ver si mejoramos respecto a lo encontrado hasta el momento\n",
    "    distancia_vecina = distancia_total(vecina, problem)\n",
    "\n",
    "    #Si no mejoramos hay que terminar. Hemos llegado a un minimo local(según nuestro operador de vencindad 2-opt)\n",
    "    if distancia_vecina < mejor_distancia:\n",
    "      #mejor_solucion = copy.deepcopy(vecina)   #Con copia profunda. Las copias en python son por referencia\n",
    "      mejor_solucion = vecina                   #Guarda la mejor solución encontrada\n",
    "      mejor_distancia = distancia_vecina\n",
    "\n",
    "    else:\n",
    "      print(\"En la iteracion \", iteracion, \", la mejor solución encontrada es:\" , mejor_solucion)\n",
    "      print(\"Distancia     :\" , mejor_distancia)\n",
    "      return mejor_solucion\n",
    "\n",
    "    solucion_referencia = vecina\n",
    "\n",
    "\n",
    "sol = nueva_busqueda_local(nodos, problem )"
   ]
  }
 ],
 "metadata": {
  "kernelspec": {
   "display_name": "Python 3 (ipykernel)",
   "language": "python",
   "name": "python3"
  },
  "language_info": {
   "codemirror_mode": {
    "name": "ipython",
    "version": 3
   },
   "file_extension": ".py",
   "mimetype": "text/x-python",
   "name": "python",
   "nbconvert_exporter": "python",
   "pygments_lexer": "ipython3",
   "version": "3.9.6"
  }
 },
 "nbformat": 4,
 "nbformat_minor": 5
}
